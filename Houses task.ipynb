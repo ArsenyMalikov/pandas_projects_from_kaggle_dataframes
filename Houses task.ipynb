{
 "cells": [
  {
   "cell_type": "markdown",
   "id": "cd9e3d10",
   "metadata": {},
   "source": [
    "# Houses task"
   ]
  },
  {
   "cell_type": "code",
   "execution_count": 1,
   "id": "33551248",
   "metadata": {
    "scrolled": true
   },
   "outputs": [
    {
     "data": {
      "text/html": [
       "<div>\n",
       "<style scoped>\n",
       "    .dataframe tbody tr th:only-of-type {\n",
       "        vertical-align: middle;\n",
       "    }\n",
       "\n",
       "    .dataframe tbody tr th {\n",
       "        vertical-align: top;\n",
       "    }\n",
       "\n",
       "    .dataframe thead th {\n",
       "        text-align: right;\n",
       "    }\n",
       "</style>\n",
       "<table border=\"1\" class=\"dataframe\">\n",
       "  <thead>\n",
       "    <tr style=\"text-align: right;\">\n",
       "      <th></th>\n",
       "      <th>Id</th>\n",
       "      <th>MSSubClass</th>\n",
       "      <th>MSZoning</th>\n",
       "      <th>LotFrontage</th>\n",
       "      <th>LotArea</th>\n",
       "      <th>Street</th>\n",
       "      <th>Alley</th>\n",
       "      <th>LotShape</th>\n",
       "      <th>LandContour</th>\n",
       "      <th>Utilities</th>\n",
       "      <th>...</th>\n",
       "      <th>PoolArea</th>\n",
       "      <th>PoolQC</th>\n",
       "      <th>Fence</th>\n",
       "      <th>MiscFeature</th>\n",
       "      <th>MiscVal</th>\n",
       "      <th>MoSold</th>\n",
       "      <th>YrSold</th>\n",
       "      <th>SaleType</th>\n",
       "      <th>SaleCondition</th>\n",
       "      <th>SalePrice</th>\n",
       "    </tr>\n",
       "  </thead>\n",
       "  <tbody>\n",
       "    <tr>\n",
       "      <th>0</th>\n",
       "      <td>1</td>\n",
       "      <td>60</td>\n",
       "      <td>RL</td>\n",
       "      <td>65.0</td>\n",
       "      <td>8450</td>\n",
       "      <td>Pave</td>\n",
       "      <td>0</td>\n",
       "      <td>Reg</td>\n",
       "      <td>Lvl</td>\n",
       "      <td>AllPub</td>\n",
       "      <td>...</td>\n",
       "      <td>0</td>\n",
       "      <td>0</td>\n",
       "      <td>0</td>\n",
       "      <td>0</td>\n",
       "      <td>0</td>\n",
       "      <td>2</td>\n",
       "      <td>2008</td>\n",
       "      <td>WD</td>\n",
       "      <td>Normal</td>\n",
       "      <td>208500</td>\n",
       "    </tr>\n",
       "    <tr>\n",
       "      <th>1</th>\n",
       "      <td>2</td>\n",
       "      <td>20</td>\n",
       "      <td>RL</td>\n",
       "      <td>80.0</td>\n",
       "      <td>9600</td>\n",
       "      <td>Pave</td>\n",
       "      <td>0</td>\n",
       "      <td>Reg</td>\n",
       "      <td>Lvl</td>\n",
       "      <td>AllPub</td>\n",
       "      <td>...</td>\n",
       "      <td>0</td>\n",
       "      <td>0</td>\n",
       "      <td>0</td>\n",
       "      <td>0</td>\n",
       "      <td>0</td>\n",
       "      <td>5</td>\n",
       "      <td>2007</td>\n",
       "      <td>WD</td>\n",
       "      <td>Normal</td>\n",
       "      <td>181500</td>\n",
       "    </tr>\n",
       "    <tr>\n",
       "      <th>2</th>\n",
       "      <td>3</td>\n",
       "      <td>60</td>\n",
       "      <td>RL</td>\n",
       "      <td>68.0</td>\n",
       "      <td>11250</td>\n",
       "      <td>Pave</td>\n",
       "      <td>0</td>\n",
       "      <td>IR1</td>\n",
       "      <td>Lvl</td>\n",
       "      <td>AllPub</td>\n",
       "      <td>...</td>\n",
       "      <td>0</td>\n",
       "      <td>0</td>\n",
       "      <td>0</td>\n",
       "      <td>0</td>\n",
       "      <td>0</td>\n",
       "      <td>9</td>\n",
       "      <td>2008</td>\n",
       "      <td>WD</td>\n",
       "      <td>Normal</td>\n",
       "      <td>223500</td>\n",
       "    </tr>\n",
       "    <tr>\n",
       "      <th>3</th>\n",
       "      <td>4</td>\n",
       "      <td>70</td>\n",
       "      <td>RL</td>\n",
       "      <td>60.0</td>\n",
       "      <td>9550</td>\n",
       "      <td>Pave</td>\n",
       "      <td>0</td>\n",
       "      <td>IR1</td>\n",
       "      <td>Lvl</td>\n",
       "      <td>AllPub</td>\n",
       "      <td>...</td>\n",
       "      <td>0</td>\n",
       "      <td>0</td>\n",
       "      <td>0</td>\n",
       "      <td>0</td>\n",
       "      <td>0</td>\n",
       "      <td>2</td>\n",
       "      <td>2006</td>\n",
       "      <td>WD</td>\n",
       "      <td>Abnorml</td>\n",
       "      <td>140000</td>\n",
       "    </tr>\n",
       "    <tr>\n",
       "      <th>4</th>\n",
       "      <td>5</td>\n",
       "      <td>60</td>\n",
       "      <td>RL</td>\n",
       "      <td>84.0</td>\n",
       "      <td>14260</td>\n",
       "      <td>Pave</td>\n",
       "      <td>0</td>\n",
       "      <td>IR1</td>\n",
       "      <td>Lvl</td>\n",
       "      <td>AllPub</td>\n",
       "      <td>...</td>\n",
       "      <td>0</td>\n",
       "      <td>0</td>\n",
       "      <td>0</td>\n",
       "      <td>0</td>\n",
       "      <td>0</td>\n",
       "      <td>12</td>\n",
       "      <td>2008</td>\n",
       "      <td>WD</td>\n",
       "      <td>Normal</td>\n",
       "      <td>250000</td>\n",
       "    </tr>\n",
       "  </tbody>\n",
       "</table>\n",
       "<p>5 rows × 81 columns</p>\n",
       "</div>"
      ],
      "text/plain": [
       "   Id  MSSubClass MSZoning  LotFrontage  LotArea Street Alley LotShape  \\\n",
       "0   1          60       RL         65.0     8450   Pave     0      Reg   \n",
       "1   2          20       RL         80.0     9600   Pave     0      Reg   \n",
       "2   3          60       RL         68.0    11250   Pave     0      IR1   \n",
       "3   4          70       RL         60.0     9550   Pave     0      IR1   \n",
       "4   5          60       RL         84.0    14260   Pave     0      IR1   \n",
       "\n",
       "  LandContour Utilities  ... PoolArea PoolQC Fence MiscFeature MiscVal MoSold  \\\n",
       "0         Lvl    AllPub  ...        0      0     0           0       0      2   \n",
       "1         Lvl    AllPub  ...        0      0     0           0       0      5   \n",
       "2         Lvl    AllPub  ...        0      0     0           0       0      9   \n",
       "3         Lvl    AllPub  ...        0      0     0           0       0      2   \n",
       "4         Lvl    AllPub  ...        0      0     0           0       0     12   \n",
       "\n",
       "  YrSold  SaleType  SaleCondition  SalePrice  \n",
       "0   2008        WD         Normal     208500  \n",
       "1   2007        WD         Normal     181500  \n",
       "2   2008        WD         Normal     223500  \n",
       "3   2006        WD        Abnorml     140000  \n",
       "4   2008        WD         Normal     250000  \n",
       "\n",
       "[5 rows x 81 columns]"
      ]
     },
     "execution_count": 1,
     "metadata": {},
     "output_type": "execute_result"
    }
   ],
   "source": [
    "import pandas as pd\n",
    "import numpy as np\n",
    "from sklearn.model_selection import cross_val_score, KFold, GridSearchCV\n",
    "from sklearn.metrics import accuracy_score\n",
    "import seaborn as sns\n",
    "from sklearn.model_selection import train_test_split\n",
    "from sklearn.ensemble import RandomForestRegressor, RandomForestClassifier, BaggingRegressor\n",
    "from sklearn.tree import DecisionTreeRegressor, DecisionTreeClassifier\n",
    "\n",
    "df = pd.read_csv('C:/Users/79263/Downloads/house-prices-advanced-regression-techniques/train.csv')\n",
    "df = df.fillna(0)\n",
    "df.head()"
   ]
  },
  {
   "cell_type": "code",
   "execution_count": 2,
   "id": "049627f9",
   "metadata": {
    "scrolled": true
   },
   "outputs": [
    {
     "name": "stdout",
     "output_type": "stream",
     "text": [
      "<class 'pandas.core.frame.DataFrame'>\n",
      "RangeIndex: 1460 entries, 0 to 1459\n",
      "Data columns (total 81 columns):\n",
      " #   Column         Non-Null Count  Dtype  \n",
      "---  ------         --------------  -----  \n",
      " 0   Id             1460 non-null   int64  \n",
      " 1   MSSubClass     1460 non-null   int64  \n",
      " 2   MSZoning       1460 non-null   object \n",
      " 3   LotFrontage    1460 non-null   float64\n",
      " 4   LotArea        1460 non-null   int64  \n",
      " 5   Street         1460 non-null   object \n",
      " 6   Alley          1460 non-null   object \n",
      " 7   LotShape       1460 non-null   object \n",
      " 8   LandContour    1460 non-null   object \n",
      " 9   Utilities      1460 non-null   object \n",
      " 10  LotConfig      1460 non-null   object \n",
      " 11  LandSlope      1460 non-null   object \n",
      " 12  Neighborhood   1460 non-null   object \n",
      " 13  Condition1     1460 non-null   object \n",
      " 14  Condition2     1460 non-null   object \n",
      " 15  BldgType       1460 non-null   object \n",
      " 16  HouseStyle     1460 non-null   object \n",
      " 17  OverallQual    1460 non-null   int64  \n",
      " 18  OverallCond    1460 non-null   int64  \n",
      " 19  YearBuilt      1460 non-null   int64  \n",
      " 20  YearRemodAdd   1460 non-null   int64  \n",
      " 21  RoofStyle      1460 non-null   object \n",
      " 22  RoofMatl       1460 non-null   object \n",
      " 23  Exterior1st    1460 non-null   object \n",
      " 24  Exterior2nd    1460 non-null   object \n",
      " 25  MasVnrType     1460 non-null   object \n",
      " 26  MasVnrArea     1460 non-null   float64\n",
      " 27  ExterQual      1460 non-null   object \n",
      " 28  ExterCond      1460 non-null   object \n",
      " 29  Foundation     1460 non-null   object \n",
      " 30  BsmtQual       1460 non-null   object \n",
      " 31  BsmtCond       1460 non-null   object \n",
      " 32  BsmtExposure   1460 non-null   object \n",
      " 33  BsmtFinType1   1460 non-null   object \n",
      " 34  BsmtFinSF1     1460 non-null   int64  \n",
      " 35  BsmtFinType2   1460 non-null   object \n",
      " 36  BsmtFinSF2     1460 non-null   int64  \n",
      " 37  BsmtUnfSF      1460 non-null   int64  \n",
      " 38  TotalBsmtSF    1460 non-null   int64  \n",
      " 39  Heating        1460 non-null   object \n",
      " 40  HeatingQC      1460 non-null   object \n",
      " 41  CentralAir     1460 non-null   object \n",
      " 42  Electrical     1460 non-null   object \n",
      " 43  1stFlrSF       1460 non-null   int64  \n",
      " 44  2ndFlrSF       1460 non-null   int64  \n",
      " 45  LowQualFinSF   1460 non-null   int64  \n",
      " 46  GrLivArea      1460 non-null   int64  \n",
      " 47  BsmtFullBath   1460 non-null   int64  \n",
      " 48  BsmtHalfBath   1460 non-null   int64  \n",
      " 49  FullBath       1460 non-null   int64  \n",
      " 50  HalfBath       1460 non-null   int64  \n",
      " 51  BedroomAbvGr   1460 non-null   int64  \n",
      " 52  KitchenAbvGr   1460 non-null   int64  \n",
      " 53  KitchenQual    1460 non-null   object \n",
      " 54  TotRmsAbvGrd   1460 non-null   int64  \n",
      " 55  Functional     1460 non-null   object \n",
      " 56  Fireplaces     1460 non-null   int64  \n",
      " 57  FireplaceQu    1460 non-null   object \n",
      " 58  GarageType     1460 non-null   object \n",
      " 59  GarageYrBlt    1460 non-null   float64\n",
      " 60  GarageFinish   1460 non-null   object \n",
      " 61  GarageCars     1460 non-null   int64  \n",
      " 62  GarageArea     1460 non-null   int64  \n",
      " 63  GarageQual     1460 non-null   object \n",
      " 64  GarageCond     1460 non-null   object \n",
      " 65  PavedDrive     1460 non-null   object \n",
      " 66  WoodDeckSF     1460 non-null   int64  \n",
      " 67  OpenPorchSF    1460 non-null   int64  \n",
      " 68  EnclosedPorch  1460 non-null   int64  \n",
      " 69  3SsnPorch      1460 non-null   int64  \n",
      " 70  ScreenPorch    1460 non-null   int64  \n",
      " 71  PoolArea       1460 non-null   int64  \n",
      " 72  PoolQC         1460 non-null   object \n",
      " 73  Fence          1460 non-null   object \n",
      " 74  MiscFeature    1460 non-null   object \n",
      " 75  MiscVal        1460 non-null   int64  \n",
      " 76  MoSold         1460 non-null   int64  \n",
      " 77  YrSold         1460 non-null   int64  \n",
      " 78  SaleType       1460 non-null   object \n",
      " 79  SaleCondition  1460 non-null   object \n",
      " 80  SalePrice      1460 non-null   int64  \n",
      "dtypes: float64(3), int64(35), object(43)\n",
      "memory usage: 924.0+ KB\n"
     ]
    }
   ],
   "source": [
    "df.info()"
   ]
  },
  {
   "cell_type": "code",
   "execution_count": 3,
   "id": "197a0ecd",
   "metadata": {},
   "outputs": [
    {
     "data": {
      "text/plain": [
       "count      1460.000000\n",
       "mean     180921.195890\n",
       "std       79442.502883\n",
       "min       34900.000000\n",
       "25%      129975.000000\n",
       "50%      163000.000000\n",
       "75%      214000.000000\n",
       "max      755000.000000\n",
       "Name: SalePrice, dtype: float64"
      ]
     },
     "execution_count": 3,
     "metadata": {},
     "output_type": "execute_result"
    }
   ],
   "source": [
    "df['SalePrice'].describe()"
   ]
  },
  {
   "cell_type": "code",
   "execution_count": 4,
   "id": "a5a4f5a4",
   "metadata": {
    "scrolled": true
   },
   "outputs": [],
   "source": [
    "df_num = df.select_dtypes(include = ['float64', 'int64'])\n",
    "\n",
    "y = df_num['SalePrice']\n",
    "\n",
    "x_train, x_holdout, y_train, y_holdout = train_test_split(df_num.drop('SalePrice', axis=1), y, test_size=0.3, random_state=17)"
   ]
  },
  {
   "cell_type": "code",
   "execution_count": 5,
   "id": "cc1c331e",
   "metadata": {
    "scrolled": true
   },
   "outputs": [
    {
     "name": "stdout",
     "output_type": "stream",
     "text": [
      "CV accuracy score: -3131176.78%\n"
     ]
    }
   ],
   "source": [
    "from sklearn.model_selection import KFold\n",
    "from sklearn.metrics import mean_squared_error\n",
    "from math import sqrt\n",
    "\n",
    "\n",
    "# cols = []\n",
    "# for i in df.columns:\n",
    "#     if (df[i].dtype == \"float64\") or (df[i].dtype == 'int64'):\n",
    "#         cols.append(i) \n",
    "\n",
    "\n",
    "kf = KFold(n_splits=10, shuffle=False, random_state=None)\n",
    "\n",
    "rfc = RandomForestRegressor(random_state=42, n_jobs=-1, oob_score=False)\n",
    "\n",
    "results = cross_val_score(rfc, x_train, y_train, cv=kf, scoring = 'neg_root_mean_squared_error')\n",
    "\n",
    "\n",
    "\n",
    "# print(mean_squared_error(y_train, results))\n",
    "print(\"CV accuracy score: {:.2f}%\".format(results.mean()*100))"
   ]
  },
  {
   "cell_type": "code",
   "execution_count": 6,
   "id": "d42240fb",
   "metadata": {},
   "outputs": [
    {
     "data": {
      "text/plain": [
       "-31311.767763903103"
      ]
     },
     "execution_count": 6,
     "metadata": {},
     "output_type": "execute_result"
    }
   ],
   "source": [
    "np.mean(results)"
   ]
  },
  {
   "cell_type": "code",
   "execution_count": 7,
   "id": "ec8be9e2",
   "metadata": {},
   "outputs": [
    {
     "name": "stdout",
     "output_type": "stream",
     "text": [
      "Fitting 5 folds for each of 54 candidates, totalling 270 fits\n"
     ]
    },
    {
     "data": {
      "text/html": [
       "<style>#sk-container-id-1 {color: black;}#sk-container-id-1 pre{padding: 0;}#sk-container-id-1 div.sk-toggleable {background-color: white;}#sk-container-id-1 label.sk-toggleable__label {cursor: pointer;display: block;width: 100%;margin-bottom: 0;padding: 0.3em;box-sizing: border-box;text-align: center;}#sk-container-id-1 label.sk-toggleable__label-arrow:before {content: \"▸\";float: left;margin-right: 0.25em;color: #696969;}#sk-container-id-1 label.sk-toggleable__label-arrow:hover:before {color: black;}#sk-container-id-1 div.sk-estimator:hover label.sk-toggleable__label-arrow:before {color: black;}#sk-container-id-1 div.sk-toggleable__content {max-height: 0;max-width: 0;overflow: hidden;text-align: left;background-color: #f0f8ff;}#sk-container-id-1 div.sk-toggleable__content pre {margin: 0.2em;color: black;border-radius: 0.25em;background-color: #f0f8ff;}#sk-container-id-1 input.sk-toggleable__control:checked~div.sk-toggleable__content {max-height: 200px;max-width: 100%;overflow: auto;}#sk-container-id-1 input.sk-toggleable__control:checked~label.sk-toggleable__label-arrow:before {content: \"▾\";}#sk-container-id-1 div.sk-estimator input.sk-toggleable__control:checked~label.sk-toggleable__label {background-color: #d4ebff;}#sk-container-id-1 div.sk-label input.sk-toggleable__control:checked~label.sk-toggleable__label {background-color: #d4ebff;}#sk-container-id-1 input.sk-hidden--visually {border: 0;clip: rect(1px 1px 1px 1px);clip: rect(1px, 1px, 1px, 1px);height: 1px;margin: -1px;overflow: hidden;padding: 0;position: absolute;width: 1px;}#sk-container-id-1 div.sk-estimator {font-family: monospace;background-color: #f0f8ff;border: 1px dotted black;border-radius: 0.25em;box-sizing: border-box;margin-bottom: 0.5em;}#sk-container-id-1 div.sk-estimator:hover {background-color: #d4ebff;}#sk-container-id-1 div.sk-parallel-item::after {content: \"\";width: 100%;border-bottom: 1px solid gray;flex-grow: 1;}#sk-container-id-1 div.sk-label:hover label.sk-toggleable__label {background-color: #d4ebff;}#sk-container-id-1 div.sk-serial::before {content: \"\";position: absolute;border-left: 1px solid gray;box-sizing: border-box;top: 0;bottom: 0;left: 50%;z-index: 0;}#sk-container-id-1 div.sk-serial {display: flex;flex-direction: column;align-items: center;background-color: white;padding-right: 0.2em;padding-left: 0.2em;position: relative;}#sk-container-id-1 div.sk-item {position: relative;z-index: 1;}#sk-container-id-1 div.sk-parallel {display: flex;align-items: stretch;justify-content: center;background-color: white;position: relative;}#sk-container-id-1 div.sk-item::before, #sk-container-id-1 div.sk-parallel-item::before {content: \"\";position: absolute;border-left: 1px solid gray;box-sizing: border-box;top: 0;bottom: 0;left: 50%;z-index: -1;}#sk-container-id-1 div.sk-parallel-item {display: flex;flex-direction: column;z-index: 1;position: relative;background-color: white;}#sk-container-id-1 div.sk-parallel-item:first-child::after {align-self: flex-end;width: 50%;}#sk-container-id-1 div.sk-parallel-item:last-child::after {align-self: flex-start;width: 50%;}#sk-container-id-1 div.sk-parallel-item:only-child::after {width: 0;}#sk-container-id-1 div.sk-dashed-wrapped {border: 1px dashed gray;margin: 0 0.4em 0.5em 0.4em;box-sizing: border-box;padding-bottom: 0.4em;background-color: white;}#sk-container-id-1 div.sk-label label {font-family: monospace;font-weight: bold;display: inline-block;line-height: 1.2em;}#sk-container-id-1 div.sk-label-container {text-align: center;}#sk-container-id-1 div.sk-container {/* jupyter's `normalize.less` sets `[hidden] { display: none; }` but bootstrap.min.css set `[hidden] { display: none !important; }` so we also need the `!important` here to be able to override the default hidden behavior on the sphinx rendered scikit-learn.org. See: https://github.com/scikit-learn/scikit-learn/issues/21755 */display: inline-block !important;position: relative;}#sk-container-id-1 div.sk-text-repr-fallback {display: none;}</style><div id=\"sk-container-id-1\" class=\"sk-top-container\"><div class=\"sk-text-repr-fallback\"><pre>GridSearchCV(estimator=RandomForestRegressor(n_jobs=-1, oob_score=True,\n",
       "                                             random_state=42),\n",
       "             n_jobs=-1,\n",
       "             param_grid={&#x27;max_depth&#x27;: [5, 13, 15], &#x27;max_features&#x27;: [7, 13],\n",
       "                         &#x27;min_samples_leaf&#x27;: [3, 5, 7],\n",
       "                         &#x27;n_estimators&#x27;: [75, 125, 175]},\n",
       "             verbose=1)</pre><b>In a Jupyter environment, please rerun this cell to show the HTML representation or trust the notebook. <br />On GitHub, the HTML representation is unable to render, please try loading this page with nbviewer.org.</b></div><div class=\"sk-container\" hidden><div class=\"sk-item sk-dashed-wrapped\"><div class=\"sk-label-container\"><div class=\"sk-label sk-toggleable\"><input class=\"sk-toggleable__control sk-hidden--visually\" id=\"sk-estimator-id-1\" type=\"checkbox\" ><label for=\"sk-estimator-id-1\" class=\"sk-toggleable__label sk-toggleable__label-arrow\">GridSearchCV</label><div class=\"sk-toggleable__content\"><pre>GridSearchCV(estimator=RandomForestRegressor(n_jobs=-1, oob_score=True,\n",
       "                                             random_state=42),\n",
       "             n_jobs=-1,\n",
       "             param_grid={&#x27;max_depth&#x27;: [5, 13, 15], &#x27;max_features&#x27;: [7, 13],\n",
       "                         &#x27;min_samples_leaf&#x27;: [3, 5, 7],\n",
       "                         &#x27;n_estimators&#x27;: [75, 125, 175]},\n",
       "             verbose=1)</pre></div></div></div><div class=\"sk-parallel\"><div class=\"sk-parallel-item\"><div class=\"sk-item\"><div class=\"sk-label-container\"><div class=\"sk-label sk-toggleable\"><input class=\"sk-toggleable__control sk-hidden--visually\" id=\"sk-estimator-id-2\" type=\"checkbox\" ><label for=\"sk-estimator-id-2\" class=\"sk-toggleable__label sk-toggleable__label-arrow\">estimator: RandomForestRegressor</label><div class=\"sk-toggleable__content\"><pre>RandomForestRegressor(n_jobs=-1, oob_score=True, random_state=42)</pre></div></div></div><div class=\"sk-serial\"><div class=\"sk-item\"><div class=\"sk-estimator sk-toggleable\"><input class=\"sk-toggleable__control sk-hidden--visually\" id=\"sk-estimator-id-3\" type=\"checkbox\" ><label for=\"sk-estimator-id-3\" class=\"sk-toggleable__label sk-toggleable__label-arrow\">RandomForestRegressor</label><div class=\"sk-toggleable__content\"><pre>RandomForestRegressor(n_jobs=-1, oob_score=True, random_state=42)</pre></div></div></div></div></div></div></div></div></div></div>"
      ],
      "text/plain": [
       "GridSearchCV(estimator=RandomForestRegressor(n_jobs=-1, oob_score=True,\n",
       "                                             random_state=42),\n",
       "             n_jobs=-1,\n",
       "             param_grid={'max_depth': [5, 13, 15], 'max_features': [7, 13],\n",
       "                         'min_samples_leaf': [3, 5, 7],\n",
       "                         'n_estimators': [75, 125, 175]},\n",
       "             verbose=1)"
      ]
     },
     "execution_count": 7,
     "metadata": {},
     "output_type": "execute_result"
    }
   ],
   "source": [
    "parameters = {'n_estimators' : [75, 125, 175], 'max_features': [7, 13], 'min_samples_leaf': [3, 5, 7], 'max_depth': [5, 13, 15]}\n",
    "rfc = RandomForestRegressor(random_state=42, n_jobs=-1, oob_score=True)\n",
    "gcv = GridSearchCV(rfc, parameters, n_jobs=-1, verbose=1)\n",
    "gcv.fit(x_train, y_train)"
   ]
  },
  {
   "cell_type": "code",
   "execution_count": 8,
   "id": "41c86c94",
   "metadata": {},
   "outputs": [
    {
     "data": {
      "text/plain": [
       "{'max_depth': 15,\n",
       " 'max_features': 13,\n",
       " 'min_samples_leaf': 3,\n",
       " 'n_estimators': 175}"
      ]
     },
     "execution_count": 8,
     "metadata": {},
     "output_type": "execute_result"
    }
   ],
   "source": [
    "gcv.best_params_"
   ]
  },
  {
   "cell_type": "code",
   "execution_count": 9,
   "id": "0383ebf5",
   "metadata": {},
   "outputs": [
    {
     "name": "stdout",
     "output_type": "stream",
     "text": [
      "CV accuracy score: -3056676.53%\n"
     ]
    }
   ],
   "source": [
    "kf = KFold(n_splits=10, shuffle=False, random_state=None)\n",
    "\n",
    "rfc = RandomForestRegressor(n_estimators=175, random_state=42, \n",
    "                            n_jobs=-1, oob_score=False, \n",
    "                            max_depth=15, max_features=13,  min_samples_leaf=3)\n",
    "\n",
    "results = cross_val_score(rfc, x_train, y_train, cv=kf, scoring = 'neg_root_mean_squared_error')\n",
    "\n",
    "print(\"CV accuracy score: {:.2f}%\".format(results.mean()*100))"
   ]
  },
  {
   "cell_type": "code",
   "execution_count": 10,
   "id": "a01e416f",
   "metadata": {},
   "outputs": [],
   "source": [
    "df1 = pd.read_csv('C:/Users/79263/Downloads/house-prices-advanced-regression-techniques/test.csv')"
   ]
  },
  {
   "cell_type": "code",
   "execution_count": 11,
   "id": "3c80738e",
   "metadata": {},
   "outputs": [
    {
     "name": "stdout",
     "output_type": "stream",
     "text": [
      "<class 'pandas.core.frame.DataFrame'>\n",
      "RangeIndex: 1459 entries, 0 to 1458\n",
      "Data columns (total 37 columns):\n",
      " #   Column         Non-Null Count  Dtype  \n",
      "---  ------         --------------  -----  \n",
      " 0   Id             1459 non-null   int64  \n",
      " 1   MSSubClass     1459 non-null   int64  \n",
      " 2   LotFrontage    1232 non-null   float64\n",
      " 3   LotArea        1459 non-null   int64  \n",
      " 4   OverallQual    1459 non-null   int64  \n",
      " 5   OverallCond    1459 non-null   int64  \n",
      " 6   YearBuilt      1459 non-null   int64  \n",
      " 7   YearRemodAdd   1459 non-null   int64  \n",
      " 8   MasVnrArea     1444 non-null   float64\n",
      " 9   BsmtFinSF1     1458 non-null   float64\n",
      " 10  BsmtFinSF2     1458 non-null   float64\n",
      " 11  BsmtUnfSF      1458 non-null   float64\n",
      " 12  TotalBsmtSF    1458 non-null   float64\n",
      " 13  1stFlrSF       1459 non-null   int64  \n",
      " 14  2ndFlrSF       1459 non-null   int64  \n",
      " 15  LowQualFinSF   1459 non-null   int64  \n",
      " 16  GrLivArea      1459 non-null   int64  \n",
      " 17  BsmtFullBath   1457 non-null   float64\n",
      " 18  BsmtHalfBath   1457 non-null   float64\n",
      " 19  FullBath       1459 non-null   int64  \n",
      " 20  HalfBath       1459 non-null   int64  \n",
      " 21  BedroomAbvGr   1459 non-null   int64  \n",
      " 22  KitchenAbvGr   1459 non-null   int64  \n",
      " 23  TotRmsAbvGrd   1459 non-null   int64  \n",
      " 24  Fireplaces     1459 non-null   int64  \n",
      " 25  GarageYrBlt    1381 non-null   float64\n",
      " 26  GarageCars     1458 non-null   float64\n",
      " 27  GarageArea     1458 non-null   float64\n",
      " 28  WoodDeckSF     1459 non-null   int64  \n",
      " 29  OpenPorchSF    1459 non-null   int64  \n",
      " 30  EnclosedPorch  1459 non-null   int64  \n",
      " 31  3SsnPorch      1459 non-null   int64  \n",
      " 32  ScreenPorch    1459 non-null   int64  \n",
      " 33  PoolArea       1459 non-null   int64  \n",
      " 34  MiscVal        1459 non-null   int64  \n",
      " 35  MoSold         1459 non-null   int64  \n",
      " 36  YrSold         1459 non-null   int64  \n",
      "dtypes: float64(11), int64(26)\n",
      "memory usage: 421.9 KB\n"
     ]
    }
   ],
   "source": [
    "df1_num = df1.select_dtypes(include = ['float64', 'int64'])\n",
    "df1_num.info()"
   ]
  },
  {
   "cell_type": "code",
   "execution_count": 12,
   "id": "2d5229fe",
   "metadata": {},
   "outputs": [],
   "source": [
    "df1_num = df1_num.fillna(df1_num.mean())"
   ]
  },
  {
   "cell_type": "code",
   "execution_count": 13,
   "id": "0dca8486",
   "metadata": {},
   "outputs": [
    {
     "name": "stdout",
     "output_type": "stream",
     "text": [
      "<class 'pandas.core.frame.DataFrame'>\n",
      "RangeIndex: 1459 entries, 0 to 1458\n",
      "Data columns (total 37 columns):\n",
      " #   Column         Non-Null Count  Dtype  \n",
      "---  ------         --------------  -----  \n",
      " 0   Id             1459 non-null   int64  \n",
      " 1   MSSubClass     1459 non-null   int64  \n",
      " 2   LotFrontage    1459 non-null   float64\n",
      " 3   LotArea        1459 non-null   int64  \n",
      " 4   OverallQual    1459 non-null   int64  \n",
      " 5   OverallCond    1459 non-null   int64  \n",
      " 6   YearBuilt      1459 non-null   int64  \n",
      " 7   YearRemodAdd   1459 non-null   int64  \n",
      " 8   MasVnrArea     1459 non-null   float64\n",
      " 9   BsmtFinSF1     1459 non-null   float64\n",
      " 10  BsmtFinSF2     1459 non-null   float64\n",
      " 11  BsmtUnfSF      1459 non-null   float64\n",
      " 12  TotalBsmtSF    1459 non-null   float64\n",
      " 13  1stFlrSF       1459 non-null   int64  \n",
      " 14  2ndFlrSF       1459 non-null   int64  \n",
      " 15  LowQualFinSF   1459 non-null   int64  \n",
      " 16  GrLivArea      1459 non-null   int64  \n",
      " 17  BsmtFullBath   1459 non-null   float64\n",
      " 18  BsmtHalfBath   1459 non-null   float64\n",
      " 19  FullBath       1459 non-null   int64  \n",
      " 20  HalfBath       1459 non-null   int64  \n",
      " 21  BedroomAbvGr   1459 non-null   int64  \n",
      " 22  KitchenAbvGr   1459 non-null   int64  \n",
      " 23  TotRmsAbvGrd   1459 non-null   int64  \n",
      " 24  Fireplaces     1459 non-null   int64  \n",
      " 25  GarageYrBlt    1459 non-null   float64\n",
      " 26  GarageCars     1459 non-null   float64\n",
      " 27  GarageArea     1459 non-null   float64\n",
      " 28  WoodDeckSF     1459 non-null   int64  \n",
      " 29  OpenPorchSF    1459 non-null   int64  \n",
      " 30  EnclosedPorch  1459 non-null   int64  \n",
      " 31  3SsnPorch      1459 non-null   int64  \n",
      " 32  ScreenPorch    1459 non-null   int64  \n",
      " 33  PoolArea       1459 non-null   int64  \n",
      " 34  MiscVal        1459 non-null   int64  \n",
      " 35  MoSold         1459 non-null   int64  \n",
      " 36  YrSold         1459 non-null   int64  \n",
      "dtypes: float64(11), int64(26)\n",
      "memory usage: 421.9 KB\n"
     ]
    }
   ],
   "source": [
    "df1_num.info()"
   ]
  },
  {
   "cell_type": "code",
   "execution_count": 14,
   "id": "7a049feb",
   "metadata": {},
   "outputs": [],
   "source": [
    "df1_num['SalePrice'] = gcv.predict(df1_num)"
   ]
  },
  {
   "cell_type": "code",
   "execution_count": 15,
   "id": "4e380be7",
   "metadata": {},
   "outputs": [
    {
     "name": "stdout",
     "output_type": "stream",
     "text": [
      "<class 'pandas.core.frame.DataFrame'>\n",
      "RangeIndex: 1459 entries, 0 to 1458\n",
      "Data columns (total 38 columns):\n",
      " #   Column         Non-Null Count  Dtype  \n",
      "---  ------         --------------  -----  \n",
      " 0   Id             1459 non-null   int64  \n",
      " 1   MSSubClass     1459 non-null   int64  \n",
      " 2   LotFrontage    1459 non-null   float64\n",
      " 3   LotArea        1459 non-null   int64  \n",
      " 4   OverallQual    1459 non-null   int64  \n",
      " 5   OverallCond    1459 non-null   int64  \n",
      " 6   YearBuilt      1459 non-null   int64  \n",
      " 7   YearRemodAdd   1459 non-null   int64  \n",
      " 8   MasVnrArea     1459 non-null   float64\n",
      " 9   BsmtFinSF1     1459 non-null   float64\n",
      " 10  BsmtFinSF2     1459 non-null   float64\n",
      " 11  BsmtUnfSF      1459 non-null   float64\n",
      " 12  TotalBsmtSF    1459 non-null   float64\n",
      " 13  1stFlrSF       1459 non-null   int64  \n",
      " 14  2ndFlrSF       1459 non-null   int64  \n",
      " 15  LowQualFinSF   1459 non-null   int64  \n",
      " 16  GrLivArea      1459 non-null   int64  \n",
      " 17  BsmtFullBath   1459 non-null   float64\n",
      " 18  BsmtHalfBath   1459 non-null   float64\n",
      " 19  FullBath       1459 non-null   int64  \n",
      " 20  HalfBath       1459 non-null   int64  \n",
      " 21  BedroomAbvGr   1459 non-null   int64  \n",
      " 22  KitchenAbvGr   1459 non-null   int64  \n",
      " 23  TotRmsAbvGrd   1459 non-null   int64  \n",
      " 24  Fireplaces     1459 non-null   int64  \n",
      " 25  GarageYrBlt    1459 non-null   float64\n",
      " 26  GarageCars     1459 non-null   float64\n",
      " 27  GarageArea     1459 non-null   float64\n",
      " 28  WoodDeckSF     1459 non-null   int64  \n",
      " 29  OpenPorchSF    1459 non-null   int64  \n",
      " 30  EnclosedPorch  1459 non-null   int64  \n",
      " 31  3SsnPorch      1459 non-null   int64  \n",
      " 32  ScreenPorch    1459 non-null   int64  \n",
      " 33  PoolArea       1459 non-null   int64  \n",
      " 34  MiscVal        1459 non-null   int64  \n",
      " 35  MoSold         1459 non-null   int64  \n",
      " 36  YrSold         1459 non-null   int64  \n",
      " 37  SalePrice      1459 non-null   float64\n",
      "dtypes: float64(12), int64(26)\n",
      "memory usage: 433.3 KB\n"
     ]
    }
   ],
   "source": [
    "df1_num.info()"
   ]
  },
  {
   "cell_type": "code",
   "execution_count": 16,
   "id": "59e3df52",
   "metadata": {},
   "outputs": [],
   "source": [
    "submission_houses = df1_num[['Id', 'SalePrice']]"
   ]
  },
  {
   "cell_type": "code",
   "execution_count": 17,
   "id": "686e4adc",
   "metadata": {},
   "outputs": [],
   "source": [
    "# submission.to_csv('C:/Users/79263/Downloads/submission_houses_gcv', index=False)"
   ]
  },
  {
   "cell_type": "code",
   "execution_count": null,
   "id": "48e7f096",
   "metadata": {},
   "outputs": [],
   "source": []
  }
 ],
 "metadata": {
  "kernelspec": {
   "display_name": "Python 3 (ipykernel)",
   "language": "python",
   "name": "python3"
  },
  "language_info": {
   "codemirror_mode": {
    "name": "ipython",
    "version": 3
   },
   "file_extension": ".py",
   "mimetype": "text/x-python",
   "name": "python",
   "nbconvert_exporter": "python",
   "pygments_lexer": "ipython3",
   "version": "3.10.1"
  }
 },
 "nbformat": 4,
 "nbformat_minor": 5
}
